{
 "cells": [
  {
   "cell_type": "code",
   "execution_count": 1,
   "id": "93fb5b80",
   "metadata": {},
   "outputs": [
    {
     "ename": "ModuleNotFoundError",
     "evalue": "No module named 'load_gfi'",
     "output_type": "error",
     "traceback": [
      "\u001b[31m---------------------------------------------------------------------------\u001b[39m",
      "\u001b[31mModuleNotFoundError\u001b[39m                       Traceback (most recent call last)",
      "\u001b[36mCell\u001b[39m\u001b[36m \u001b[39m\u001b[32mIn[1]\u001b[39m\u001b[32m, line 2\u001b[39m\n\u001b[32m      1\u001b[39m \u001b[38;5;66;03m#Load Global Financial Inclusion India dataset\u001b[39;00m\n\u001b[32m----> \u001b[39m\u001b[32m2\u001b[39m \u001b[38;5;28;01mfrom\u001b[39;00m\u001b[38;5;250m \u001b[39m\u001b[34;01mload_gfi\u001b[39;00m\u001b[38;5;250m \u001b[39m\u001b[38;5;28;01mimport\u001b[39;00m load_gfi_csv\n\u001b[32m      4\u001b[39m gfi_data=load_gfi_csv(\u001b[33m'\u001b[39m\u001b[33mdata/raw/global_financial_inclusion_india.csv\u001b[39m\u001b[33m'\u001b[39m)\n\u001b[32m      5\u001b[39m \u001b[38;5;28mprint\u001b[39m(gfi_data.head())\n",
      "\u001b[31mModuleNotFoundError\u001b[39m: No module named 'load_gfi'"
     ]
    }
   ],
   "source": [
    "#Load Global Financial Inclusion India dataset\n",
    "from load_gfi import load_gfi_csv\n",
    "\n",
    "gfi_data=load_gfi_csv('data/raw/global_financial_inclusion_india.csv')\n",
    "print(gfi_data.head())"
   ]
  },
  {
   "cell_type": "code",
   "execution_count": null,
   "id": "3ac7f622",
   "metadata": {},
   "outputs": [],
   "source": []
  }
 ],
 "metadata": {
  "kernelspec": {
   "display_name": "Python 3",
   "language": "python",
   "name": "python3"
  },
  "language_info": {
   "codemirror_mode": {
    "name": "ipython",
    "version": 3
   },
   "file_extension": ".py",
   "mimetype": "text/x-python",
   "name": "python",
   "nbconvert_exporter": "python",
   "pygments_lexer": "ipython3",
   "version": "3.12.3"
  }
 },
 "nbformat": 4,
 "nbformat_minor": 5
}
