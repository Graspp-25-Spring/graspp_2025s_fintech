{
 "cells": [
  {
   "cell_type": "code",
   "execution_count": 9,
   "id": "8f9241b1",
   "metadata": {},
   "outputs": [
    {
     "ename": "SyntaxError",
     "evalue": "invalid syntax (load_and_clean.py, line 5)",
     "output_type": "error",
     "traceback": [
      "Traceback \u001b[36m(most recent call last)\u001b[39m:\n",
      "  File \u001b[92m~\\AppData\\Roaming\\Python\\Python312\\site-packages\\IPython\\core\\interactiveshell.py:3667\u001b[39m in \u001b[95mrun_code\u001b[39m\n    exec(code_obj, self.user_global_ns, self.user_ns)\n",
      "\u001b[36m  \u001b[39m\u001b[36mCell\u001b[39m\u001b[36m \u001b[39m\u001b[32mIn[9]\u001b[39m\u001b[32m, line 7\u001b[39m\n\u001b[31m    \u001b[39m\u001b[31mfrom load_and_clean import load_raw_data, basic_cleaning, save_processed_data\u001b[39m\n",
      "  \u001b[36mFile \u001b[39m\u001b[32mc:\\Users\\jenna\\OneDrive\\문서\\GitHub\\graspp_2025s_fintech\\notebooks\\../src\\load_and_clean.py:5\u001b[39m\n\u001b[31m    \u001b[39m\u001b[31mdef load_raw_data('../data/raw/global_financial_inclusion_india.csv'):\u001b[39m\n                      ^\n\u001b[31mSyntaxError\u001b[39m\u001b[31m:\u001b[39m invalid syntax\n"
     ]
    }
   ],
   "source": [
    "# notebooks/group_assignment.ipynb\n",
    "\n",
    "# 1. Import necessary packages\n",
    "import pandas as pd\n",
    "import sys\n",
    "sys.path.append('graspp_2025s_fintech/src')  # This allows notebook to find your python file\n",
    "from load_and_clean import load_raw_data, basic_cleaning, save_processed_data\n",
    "\n",
    "# 2. Load your data\n",
    "file_path = 'graspp_2025s_fintech/data/raw/global_financial_inclusion_india.csv' \n",
    "data = load_raw_data(file_path)\n",
    "\n",
    "# 3. Clean your data\n",
    "clean_data = basic_cleaning(data)\n",
    "\n",
    "# 4. Save cleaned data\n",
    "save_processed_data(clean_data, 'graspp_2025s_fintech/data/processed/cleaned_data.csv')\n",
    "\n",
    "# 5. Show basic information\n",
    "print(clean_data.info())\n",
    "print(clean_data.describe())\n",
    "\n",
    "# 6. Plot simple figure\n",
    "import matplotlib.pyplot as plt\n",
    "\n",
    "clean_data['2021 [YR2021]'].dropna().hist(bins=30)\n",
    "plt.title('Distribution of 2021 Data')\n",
    "plt.xlabel('Value')\n",
    "plt.ylabel('Frequency')\n",
    "plt.savefig('graspp_2025s_fintech/reports/histogram_2021.png')\n",
    "plt.show()\n"
   ]
  },
  {
   "cell_type": "code",
   "execution_count": null,
   "id": "4ff2865c",
   "metadata": {},
   "outputs": [
    {
     "ename": "SyntaxError",
     "evalue": "invalid syntax (load_gfi.py, line 3)",
     "output_type": "error",
     "traceback": [
      "Traceback \u001b[36m(most recent call last)\u001b[39m:\n",
      "  File \u001b[92m~\\AppData\\Roaming\\Python\\Python312\\site-packages\\IPython\\core\\interactiveshell.py:3667\u001b[39m in \u001b[95mrun_code\u001b[39m\n    exec(code_obj, self.user_global_ns, self.user_ns)\n",
      "\u001b[36m  \u001b[39m\u001b[36mCell\u001b[39m\u001b[36m \u001b[39m\u001b[32mIn[6]\u001b[39m\u001b[32m, line 1\u001b[39m\n\u001b[31m    \u001b[39m\u001b[31mfrom load_gfi import load_gfi_csv\u001b[39m\n",
      "  \u001b[36mFile \u001b[39m\u001b[32mc:\\Users\\jenna\\OneDrive\\문서\\GitHub\\graspp_2025s_fintech\\notebooks\\../src\\load_gfi.py:3\u001b[39m\n\u001b[31m    \u001b[39m\u001b[31mdef load_gfi_csv(data/raw/global_financial_inclusion_india.csv):\u001b[39m\n                         ^\n\u001b[31mSyntaxError\u001b[39m\u001b[31m:\u001b[39m invalid syntax\n"
     ]
    }
   ],
   "source": [
    "from load_gfi import load_gfi_csv\n",
    "\n",
    "gfi_data=load_gfi_csv('data/raw/global_financial_inclusion_india.csv')\n",
    "print(gfi_data.head())"
   ]
  }
 ],
 "metadata": {
  "kernelspec": {
   "display_name": "Python 3",
   "language": "python",
   "name": "python3"
  },
  "language_info": {
   "codemirror_mode": {
    "name": "ipython",
    "version": 3
   },
   "file_extension": ".py",
   "mimetype": "text/x-python",
   "name": "python",
   "nbconvert_exporter": "python",
   "pygments_lexer": "ipython3",
   "version": "3.12.3"
  }
 },
 "nbformat": 4,
 "nbformat_minor": 5
}
