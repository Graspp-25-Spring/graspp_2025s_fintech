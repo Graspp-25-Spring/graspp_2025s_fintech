{
 "cells": [
  {
   "cell_type": "code",
   "execution_count": 8,
   "id": "4ddcb0e3",
   "metadata": {},
   "outputs": [],
   "source": [
    "import pandas as pd\n",
    "\n",
    "df = pd.read_csv(\"../data_raw/rainfall_data.csv\")\n",
    "df.head(2)\n",
    "\n",
    "df_year2000 = df.query(\"YEAR>=2000\").dropna()\n",
    "df_year2000.head(20)\n",
    "\n",
    "df.to_csv('../data/processed/rainfall2000_2017.csv', index=False)\n",
    "\n",
    "\n",
    "\n"
   ]
  }
 ],
 "metadata": {
  "kernelspec": {
   "display_name": "base",
   "language": "python",
   "name": "python3"
  },
  "language_info": {
   "codemirror_mode": {
    "name": "ipython",
    "version": 3
   },
   "file_extension": ".py",
   "mimetype": "text/x-python",
   "name": "python",
   "nbconvert_exporter": "python",
   "pygments_lexer": "ipython3",
   "version": "3.9.7"
  }
 },
 "nbformat": 4,
 "nbformat_minor": 5
}
