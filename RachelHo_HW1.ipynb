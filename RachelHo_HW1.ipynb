{
 "cells": [
  {
   "cell_type": "code",
   "execution_count": 7,
   "id": "8b74053a",
   "metadata": {},
   "outputs": [
    {
     "data": {
      "text/plain": [
       "'c:\\\\Users\\\\rache\\\\OneDrive\\\\Documents\\\\graspp_2025s_fintech'"
      ]
     },
     "execution_count": 7,
     "metadata": {},
     "output_type": "execute_result"
    }
   ],
   "source": [
    "import os\n",
    "os.getcwd()"
   ]
  },
  {
   "cell_type": "code",
   "execution_count": 10,
   "id": "4033bdee",
   "metadata": {},
   "outputs": [
    {
     "data": {
      "text/plain": [
       "['.git',\n",
       " 'development_indicator_data_hdi_scipub.xlsx',\n",
       " 'Isa_Folder_Test',\n",
       " 'racheltest.py',\n",
       " 'README.md']"
      ]
     },
     "execution_count": 10,
     "metadata": {},
     "output_type": "execute_result"
    }
   ],
   "source": [
    "os.listdir()"
   ]
  },
  {
   "cell_type": "code",
   "execution_count": 8,
   "id": "b4a8abca",
   "metadata": {},
   "outputs": [],
   "source": [
    "import pandas as pd"
   ]
  },
  {
   "cell_type": "code",
   "execution_count": 13,
   "id": "6d83cfdf",
   "metadata": {},
   "outputs": [],
   "source": [
    "dataset = pd.read_csv(\"development_indicator_data_hdi_scipub.csv\")"
   ]
  },
  {
   "cell_type": "code",
   "execution_count": 14,
   "id": "0c64eb88",
   "metadata": {},
   "outputs": [
    {
     "data": {
      "text/html": [
       "<div>\n",
       "<style scoped>\n",
       "    .dataframe tbody tr th:only-of-type {\n",
       "        vertical-align: middle;\n",
       "    }\n",
       "\n",
       "    .dataframe tbody tr th {\n",
       "        vertical-align: top;\n",
       "    }\n",
       "\n",
       "    .dataframe thead th {\n",
       "        text-align: right;\n",
       "    }\n",
       "</style>\n",
       "<table border=\"1\" class=\"dataframe\">\n",
       "  <thead>\n",
       "    <tr style=\"text-align: right;\">\n",
       "      <th></th>\n",
       "      <th>country_code</th>\n",
       "      <th>i_hdi</th>\n",
       "      <th>country_name</th>\n",
       "      <th>scipub</th>\n",
       "      <th>scipub_ln</th>\n",
       "    </tr>\n",
       "  </thead>\n",
       "  <tbody>\n",
       "    <tr>\n",
       "      <th>0</th>\n",
       "      <td>12</td>\n",
       "      <td>0.740</td>\n",
       "      <td>Argentina</td>\n",
       "      <td>44008.0</td>\n",
       "      <td>10.692127</td>\n",
       "    </tr>\n",
       "    <tr>\n",
       "      <th>1</th>\n",
       "      <td>13</td>\n",
       "      <td>0.694</td>\n",
       "      <td>Armenia</td>\n",
       "      <td>3166.0</td>\n",
       "      <td>8.060224</td>\n",
       "    </tr>\n",
       "    <tr>\n",
       "      <th>2</th>\n",
       "      <td>17</td>\n",
       "      <td>0.853</td>\n",
       "      <td>Australia</td>\n",
       "      <td>316451.0</td>\n",
       "      <td>12.664924</td>\n",
       "    </tr>\n",
       "    <tr>\n",
       "      <th>3</th>\n",
       "      <td>159</td>\n",
       "      <td>0.845</td>\n",
       "      <td>Austria</td>\n",
       "      <td>81661.0</td>\n",
       "      <td>11.310332</td>\n",
       "    </tr>\n",
       "    <tr>\n",
       "      <th>4</th>\n",
       "      <td>20</td>\n",
       "      <td>0.423</td>\n",
       "      <td>Bangladesh</td>\n",
       "      <td>9580.0</td>\n",
       "      <td>9.167433</td>\n",
       "    </tr>\n",
       "  </tbody>\n",
       "</table>\n",
       "</div>"
      ],
      "text/plain": [
       "   country_code  i_hdi country_name    scipub  scipub_ln\n",
       "0            12  0.740    Argentina   44008.0  10.692127\n",
       "1            13  0.694      Armenia    3166.0   8.060224\n",
       "2            17  0.853    Australia  316451.0  12.664924\n",
       "3           159  0.845      Austria   81661.0  11.310332\n",
       "4            20  0.423   Bangladesh    9580.0   9.167433"
      ]
     },
     "execution_count": 14,
     "metadata": {},
     "output_type": "execute_result"
    }
   ],
   "source": [
    "dataset.head()"
   ]
  }
 ],
 "metadata": {
  "kernelspec": {
   "display_name": "Python 3",
   "language": "python",
   "name": "python3"
  },
  "language_info": {
   "codemirror_mode": {
    "name": "ipython",
    "version": 3
   },
   "file_extension": ".py",
   "mimetype": "text/x-python",
   "name": "python",
   "nbconvert_exporter": "python",
   "pygments_lexer": "ipython3",
   "version": "3.11.9"
  }
 },
 "nbformat": 4,
 "nbformat_minor": 5
}
