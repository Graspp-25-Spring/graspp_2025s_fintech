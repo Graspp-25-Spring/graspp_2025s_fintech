{
 "cells": [
  {
   "cell_type": "code",
   "execution_count": 23,
   "id": "f034770b",
   "metadata": {},
   "outputs": [
    {
     "name": "stdout",
     "output_type": "stream",
     "text": [
      "Please at least be able to print stuff...\n"
     ]
    }
   ],
   "source": [
    "#Testing pls work\n",
    "\n",
    "print('Please at least be able to print stuff...')"
   ]
  },
  {
   "cell_type": "code",
   "execution_count": 30,
   "id": "7319de5b",
   "metadata": {},
   "outputs": [],
   "source": [
    "#Ok...let's try importing stuff then...\n",
    "import pandas as pd\n",
    "import requests\n",
    "import io\n"
   ]
  },
  {
   "cell_type": "code",
   "execution_count": 25,
   "id": "7f9a271c",
   "metadata": {},
   "outputs": [],
   "source": [
    "def download_worldbank(indicator, countries, date_start, date_end):\n",
    "    url_base = 'http://api.worldbank.org/v2/'  # Base URL for the World Bank API\n",
    "    country_codes = ';'.join(countries)  # Combine country codes into a string\n",
    "    url = url_base + f'country/{country_codes}/indicator/{indicator}?date={date_start}:{date_end}&per_page=30000' #create the url with start and end date.\n",
    "    url = url_base + f'country/{country_codes}/indicator/{indicator}?per_page=30000' # This line overrides the previous one. It will ignore start/end date.\n",
    "\n",
    "    response = requests.get(url)  # Download data from the URL\n",
    "    df = pd.read_xml(response.content)  # Convert the downloaded data to a table\n",
    "    return df  # Return the table"
   ]
  },
  {
   "cell_type": "code",
   "execution_count": 26,
   "id": "e48dd5ba",
   "metadata": {},
   "outputs": [],
   "source": [
    "#'SL.AGR.EMPL.ZS','SP.RUR.TOTL.ZG','SI.POV.NAHC', 'SI.POV.GINI','IT.NET.SECR.P6','IT.CEL.SETS.P2','FP.CPI.TOTL','FX.OWN.TOTL.ZS','EG.ELC.ACCS.ZS','EG.ELC.ACCS.RU.ZS','BX.TRF.PWKR.DT.GD.ZS'\n",
    "ag_emp = download_worldbank(\n",
    "    indicator = 'SL.AGR.EMPL.ZS',\n",
    "    countries = ['BGD', 'IND','VNM','LAO','IND','THA','KHM','MYS','SGP','MMR','PHL','BRN'],\n",
    "    date_start = '2021',\n",
    "    date_end = '2023'\n",
    ")"
   ]
  },
  {
   "cell_type": "code",
   "execution_count": 29,
   "id": "bb842f6d",
   "metadata": {},
   "outputs": [
    {
     "name": "stdout",
     "output_type": "stream",
     "text": [
      "<class 'pandas.core.frame.DataFrame'>\n",
      "RangeIndex: 715 entries, 0 to 714\n",
      "Data columns (total 8 columns):\n",
      " #   Column           Non-Null Count  Dtype  \n",
      "---  ------           --------------  -----  \n",
      " 0   indicator        715 non-null    object \n",
      " 1   country          715 non-null    object \n",
      " 2   countryiso3code  715 non-null    object \n",
      " 3   date             715 non-null    int64  \n",
      " 4   value            363 non-null    float64\n",
      " 5   unit             0 non-null      float64\n",
      " 6   obs_status       0 non-null      float64\n",
      " 7   decimal          715 non-null    int64  \n",
      "dtypes: float64(3), int64(2), object(3)\n",
      "memory usage: 44.8+ KB\n"
     ]
    },
    {
     "data": {
      "text/html": [
       "<div>\n",
       "<style scoped>\n",
       "    .dataframe tbody tr th:only-of-type {\n",
       "        vertical-align: middle;\n",
       "    }\n",
       "\n",
       "    .dataframe tbody tr th {\n",
       "        vertical-align: top;\n",
       "    }\n",
       "\n",
       "    .dataframe thead th {\n",
       "        text-align: right;\n",
       "    }\n",
       "</style>\n",
       "<table border=\"1\" class=\"dataframe\">\n",
       "  <thead>\n",
       "    <tr style=\"text-align: right;\">\n",
       "      <th></th>\n",
       "      <th>date</th>\n",
       "      <th>value</th>\n",
       "      <th>unit</th>\n",
       "      <th>obs_status</th>\n",
       "      <th>decimal</th>\n",
       "    </tr>\n",
       "  </thead>\n",
       "  <tbody>\n",
       "    <tr>\n",
       "      <th>count</th>\n",
       "      <td>715.000000</td>\n",
       "      <td>363.000000</td>\n",
       "      <td>0.0</td>\n",
       "      <td>0.0</td>\n",
       "      <td>715.0</td>\n",
       "    </tr>\n",
       "    <tr>\n",
       "      <th>mean</th>\n",
       "      <td>1992.000000</td>\n",
       "      <td>39.995062</td>\n",
       "      <td>NaN</td>\n",
       "      <td>NaN</td>\n",
       "      <td>0.0</td>\n",
       "    </tr>\n",
       "    <tr>\n",
       "      <th>std</th>\n",
       "      <td>18.774797</td>\n",
       "      <td>25.074010</td>\n",
       "      <td>NaN</td>\n",
       "      <td>NaN</td>\n",
       "      <td>0.0</td>\n",
       "    </tr>\n",
       "    <tr>\n",
       "      <th>min</th>\n",
       "      <td>1960.000000</td>\n",
       "      <td>0.090952</td>\n",
       "      <td>NaN</td>\n",
       "      <td>NaN</td>\n",
       "      <td>0.0</td>\n",
       "    </tr>\n",
       "    <tr>\n",
       "      <th>25%</th>\n",
       "      <td>1976.000000</td>\n",
       "      <td>15.628217</td>\n",
       "      <td>NaN</td>\n",
       "      <td>NaN</td>\n",
       "      <td>0.0</td>\n",
       "    </tr>\n",
       "    <tr>\n",
       "      <th>50%</th>\n",
       "      <td>1992.000000</td>\n",
       "      <td>44.206308</td>\n",
       "      <td>NaN</td>\n",
       "      <td>NaN</td>\n",
       "      <td>0.0</td>\n",
       "    </tr>\n",
       "    <tr>\n",
       "      <th>75%</th>\n",
       "      <td>2008.000000</td>\n",
       "      <td>60.592428</td>\n",
       "      <td>NaN</td>\n",
       "      <td>NaN</td>\n",
       "      <td>0.0</td>\n",
       "    </tr>\n",
       "    <tr>\n",
       "      <th>max</th>\n",
       "      <td>2024.000000</td>\n",
       "      <td>86.474423</td>\n",
       "      <td>NaN</td>\n",
       "      <td>NaN</td>\n",
       "      <td>0.0</td>\n",
       "    </tr>\n",
       "  </tbody>\n",
       "</table>\n",
       "</div>"
      ],
      "text/plain": [
       "              date       value  unit  obs_status  decimal\n",
       "count   715.000000  363.000000   0.0         0.0    715.0\n",
       "mean   1992.000000   39.995062   NaN         NaN      0.0\n",
       "std      18.774797   25.074010   NaN         NaN      0.0\n",
       "min    1960.000000    0.090952   NaN         NaN      0.0\n",
       "25%    1976.000000   15.628217   NaN         NaN      0.0\n",
       "50%    1992.000000   44.206308   NaN         NaN      0.0\n",
       "75%    2008.000000   60.592428   NaN         NaN      0.0\n",
       "max    2024.000000   86.474423   NaN         NaN      0.0"
      ]
     },
     "execution_count": 29,
     "metadata": {},
     "output_type": "execute_result"
    }
   ],
   "source": [
    "ag_emp.head(5)\n",
    "\n",
    "ag_emp.info()\n",
    "\n",
    "ag_emp.describe()"
   ]
  }
 ],
 "metadata": {
  "kernelspec": {
   "display_name": "pandas",
   "language": "python",
   "name": "python3"
  },
  "language_info": {
   "codemirror_mode": {
    "name": "ipython",
    "version": 3
   },
   "file_extension": ".py",
   "mimetype": "text/x-python",
   "name": "python",
   "nbconvert_exporter": "python",
   "pygments_lexer": "ipython3",
   "version": "3.12.9"
  }
 },
 "nbformat": 4,
 "nbformat_minor": 5
}
