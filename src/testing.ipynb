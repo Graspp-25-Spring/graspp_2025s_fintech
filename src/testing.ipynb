{
 "cells": [
  {
   "cell_type": "code",
   "execution_count": 18,
   "id": "f034770b",
   "metadata": {},
   "outputs": [
    {
     "name": "stdout",
     "output_type": "stream",
     "text": [
      "Please at least be able to print stuff...\n"
     ]
    }
   ],
   "source": [
    "#Testing pls work\n",
    "\n",
    "print('Please at least be able to print stuff...')"
   ]
  },
  {
   "cell_type": "code",
   "execution_count": 19,
   "id": "7319de5b",
   "metadata": {},
   "outputs": [],
   "source": [
    "#Ok...let's try importing stuff then...\n",
    "import pandas as pd\n",
    "import requests"
   ]
  },
  {
   "cell_type": "code",
   "execution_count": 20,
   "id": "7f9a271c",
   "metadata": {},
   "outputs": [],
   "source": [
    "def download_worldbank(indicator, countries, date_start, date_end):\n",
    "    url_base = 'http://api.worldbank.org/v2/'  # Base URL for the World Bank API\n",
    "    country_codes = ';'.join(countries)  # Combine country codes into a string\n",
    "    url = url_base + f'country/{country_codes}/indicator/{indicator}?date={date_start}:{date_end}&per_page=30000' #create the url with start and end date.\n",
    "    url = url_base + f'country/{country_codes}/indicator/{indicator}?per_page=30000' # This line overrides the previous one. It will ignore start/end date.\n",
    "\n",
    "    response = requests.get(url)  # Download data from the URL\n",
    "    df = pd.read_xml(response.content)  # Convert the downloaded data to a table\n",
    "    return df  # Return the table"
   ]
  },
  {
   "cell_type": "code",
   "execution_count": 21,
   "id": "e48dd5ba",
   "metadata": {},
   "outputs": [],
   "source": [
    "#'SL.AGR.EMPL.ZS','SP.RUR.TOTL.ZG','SI.POV.NAHC', 'SI.POV.GINI','IT.NET.SECR.P6','IT.CEL.SETS.P2','FP.CPI.TOTL','FX.OWN.TOTL.ZS','EG.ELC.ACCS.ZS','EG.ELC.ACCS.RU.ZS','BX.TRF.PWKR.DT.GD.ZS'\n",
    "wb_data = download_worldbank(\n",
    "    indicator = 'SL.AGR.EMPL.ZS',\n",
    "    countries = ['BGD', 'IND','VNM','LAO','IND','THA','KHM','MYS','SGP','MMR','PHL','BRN'],\n",
    "    date_start = '2021',\n",
    "    date_end = '2023'\n",
    ")"
   ]
  },
  {
   "cell_type": "code",
   "execution_count": 22,
   "id": "bb842f6d",
   "metadata": {},
   "outputs": [
    {
     "data": {
      "text/html": [
       "<div>\n",
       "<style scoped>\n",
       "    .dataframe tbody tr th:only-of-type {\n",
       "        vertical-align: middle;\n",
       "    }\n",
       "\n",
       "    .dataframe tbody tr th {\n",
       "        vertical-align: top;\n",
       "    }\n",
       "\n",
       "    .dataframe thead th {\n",
       "        text-align: right;\n",
       "    }\n",
       "</style>\n",
       "<table border=\"1\" class=\"dataframe\">\n",
       "  <thead>\n",
       "    <tr style=\"text-align: right;\">\n",
       "      <th></th>\n",
       "      <th>indicator</th>\n",
       "      <th>country</th>\n",
       "      <th>countryiso3code</th>\n",
       "      <th>date</th>\n",
       "      <th>value</th>\n",
       "      <th>unit</th>\n",
       "      <th>obs_status</th>\n",
       "      <th>decimal</th>\n",
       "    </tr>\n",
       "  </thead>\n",
       "  <tbody>\n",
       "    <tr>\n",
       "      <th>0</th>\n",
       "      <td>Employment in agriculture (% of total employme...</td>\n",
       "      <td>Bangladesh</td>\n",
       "      <td>BGD</td>\n",
       "      <td>2024</td>\n",
       "      <td>NaN</td>\n",
       "      <td>NaN</td>\n",
       "      <td>NaN</td>\n",
       "      <td>0</td>\n",
       "    </tr>\n",
       "    <tr>\n",
       "      <th>1</th>\n",
       "      <td>Employment in agriculture (% of total employme...</td>\n",
       "      <td>Bangladesh</td>\n",
       "      <td>BGD</td>\n",
       "      <td>2023</td>\n",
       "      <td>35.274072</td>\n",
       "      <td>NaN</td>\n",
       "      <td>NaN</td>\n",
       "      <td>0</td>\n",
       "    </tr>\n",
       "    <tr>\n",
       "      <th>2</th>\n",
       "      <td>Employment in agriculture (% of total employme...</td>\n",
       "      <td>Bangladesh</td>\n",
       "      <td>BGD</td>\n",
       "      <td>2022</td>\n",
       "      <td>35.662164</td>\n",
       "      <td>NaN</td>\n",
       "      <td>NaN</td>\n",
       "      <td>0</td>\n",
       "    </tr>\n",
       "    <tr>\n",
       "      <th>3</th>\n",
       "      <td>Employment in agriculture (% of total employme...</td>\n",
       "      <td>Bangladesh</td>\n",
       "      <td>BGD</td>\n",
       "      <td>2021</td>\n",
       "      <td>37.306117</td>\n",
       "      <td>NaN</td>\n",
       "      <td>NaN</td>\n",
       "      <td>0</td>\n",
       "    </tr>\n",
       "    <tr>\n",
       "      <th>4</th>\n",
       "      <td>Employment in agriculture (% of total employme...</td>\n",
       "      <td>Bangladesh</td>\n",
       "      <td>BGD</td>\n",
       "      <td>2020</td>\n",
       "      <td>37.971569</td>\n",
       "      <td>NaN</td>\n",
       "      <td>NaN</td>\n",
       "      <td>0</td>\n",
       "    </tr>\n",
       "  </tbody>\n",
       "</table>\n",
       "</div>"
      ],
      "text/plain": [
       "                                           indicator     country  \\\n",
       "0  Employment in agriculture (% of total employme...  Bangladesh   \n",
       "1  Employment in agriculture (% of total employme...  Bangladesh   \n",
       "2  Employment in agriculture (% of total employme...  Bangladesh   \n",
       "3  Employment in agriculture (% of total employme...  Bangladesh   \n",
       "4  Employment in agriculture (% of total employme...  Bangladesh   \n",
       "\n",
       "  countryiso3code  date      value  unit  obs_status  decimal  \n",
       "0             BGD  2024        NaN   NaN         NaN        0  \n",
       "1             BGD  2023  35.274072   NaN         NaN        0  \n",
       "2             BGD  2022  35.662164   NaN         NaN        0  \n",
       "3             BGD  2021  37.306117   NaN         NaN        0  \n",
       "4             BGD  2020  37.971569   NaN         NaN        0  "
      ]
     },
     "execution_count": 22,
     "metadata": {},
     "output_type": "execute_result"
    }
   ],
   "source": [
    "wb_data.head(5)"
   ]
  }
 ],
 "metadata": {
  "kernelspec": {
   "display_name": "pandas",
   "language": "python",
   "name": "python3"
  },
  "language_info": {
   "codemirror_mode": {
    "name": "ipython",
    "version": 3
   },
   "file_extension": ".py",
   "mimetype": "text/x-python",
   "name": "python",
   "nbconvert_exporter": "python",
   "pygments_lexer": "ipython3",
   "version": "3.12.9"
  }
 },
 "nbformat": 4,
 "nbformat_minor": 5
}
