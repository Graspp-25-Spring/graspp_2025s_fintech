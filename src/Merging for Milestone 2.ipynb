{
 "cells": [
  {
   "cell_type": "markdown",
   "id": "0c17eba4",
   "metadata": {},
   "source": [
    "# Merging for Milestone 2"
   ]
  },
  {
   "cell_type": "code",
   "execution_count": null,
   "id": "089c365c",
   "metadata": {},
   "outputs": [],
   "source": [
    "#Necessary Importations\n",
    "import pandas as pd\n",
    "import requests\n",
    "import io\n",
    "import os\n",
    "import seaborn as sns\n",
    "import matplotlib.pyplot as plt "
   ]
  }
 ],
 "metadata": {
  "language_info": {
   "name": "python"
  }
 },
 "nbformat": 4,
 "nbformat_minor": 5
}
