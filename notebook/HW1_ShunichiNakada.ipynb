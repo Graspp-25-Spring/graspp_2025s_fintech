{
 "cells": [
  {
   "cell_type": "markdown",
   "id": "3ae14035",
   "metadata": {},
   "source": [
    "# homework 1: Shunichi Nakada"
   ]
  },
  {
   "cell_type": "markdown",
   "id": "ffc3d0d6",
   "metadata": {},
   "source": [
    "## objective, hypothesys and dataset\n",
    "\n",
    "1. objective To understand impact of government policy to promote DX technologies to improve quality of life in selected country \n",
    "1. hypothesys: government policy to promote DX technologies improve quality of life\n",
    "1. candidate treatment indicator (independent variables) \n",
    "    - government policy to enhance access and utilization of DX technology by rural vulnerable population (e.g. introduction status of national ID system) \n",
    "    - indicators to represent status of mobile technology accessibility (e.g. digital network coverage, how many mobile devise each household have, experience of e-commerce)  \n",
    "1. candidate outcome indicator (dependent variables) \n",
    "    - improved access to credit (e.g. through online banking and efficient and effective credit judgement) \n",
    "    - improved financial management (e.g. through improved financial record using online tool) \n",
    "    - improved productivity through enhanced financial access (e.g. through better access to farm inputs) \n",
    "    - improved resilience in agriculture production (through early-warning system with technical guidance using digital tool and information network) \n",
    "1. candidate target country India (introduced support policy such as natinal ID system, public e-commerce platform since 2010)  \n",
    "1. possible analysis method \n",
    "    1. strategy-1: between-country assessment  - collect country level statistics through online database such as worldbank, UN-organization, etc. - create panel data of number of countries as data available - apply statistic measure to compare treatment country (India, plus countries with similar policy applied, if any) and control counties (rest of the countries)  \n",
    "    1. strategy-2: within-country assessment - collect sub-national dataset from national statistic authority - create panel data of states in target country (India) - apply statistic measure to compare different regions using available statistics - comparison could be time-series analysis(before and after support policy introduced), or state-by-state comparison assuming there are variability in timing and progress of policy enforcement\n",
    "1. Current status\n",
    "    - Our team first tried to collect required Indian statistics(sub-national). However, it is not easy to collect state level statistics, and many datasets provided by pdf, not online data. This is still ongoing work.\n",
    "    - So, for this assignment, i decided to use international dataset to compare India and other Asian countries."
   ]
  },
  {
   "cell_type": "markdown",
   "id": "c49b227d",
   "metadata": {},
   "source": [
    "## Function to download dataset"
   ]
  },
  {
   "cell_type": "code",
   "execution_count": 18,
   "id": "229f3e8a",
   "metadata": {},
   "outputs": [
    {
     "name": "stdout",
     "output_type": "stream",
     "text": [
      "  OBS_VALUE TIME_FORMAT  UNIT_MULT COMMENT_OBS OBS_STATUS OBS_CONF AGG_METHOD  \\\n",
      "0  0.925926         602          0        None          A       PU       MEAN   \n",
      "1   10.9568         602          0        None          A       PU       MEAN   \n",
      "2   4.32099         602          0        None          A       PU       MEAN   \n",
      "3   8.95062         602          0        None          A       PU       MEAN   \n",
      "4    3.7037         602          0        None          A       PU       MEAN   \n",
      "\n",
      "  DECIMALS COMMENT_TS DATA_SOURCE  ...  SEX AGE URBANISATION COMP_BREAKDOWN_1  \\\n",
      "0     None       None        None  ...   _T  _T           _T               _Z   \n",
      "1     None       None        None  ...   _T  _T           _T               _Z   \n",
      "2     None       None        None  ...   _T  _T           _T               _Z   \n",
      "3     None       None        None  ...   _T  _T           _T               _Z   \n",
      "4     None       None        None  ...   _T  _T           _T               _Z   \n",
      "\n",
      "  COMP_BREAKDOWN_2 COMP_BREAKDOWN_3 TIME_PERIOD FREQ UNIT_MEASURE UNIT_TYPE  \n",
      "0               _Z               _Z        2021    A     0_TO_100      None  \n",
      "1               _Z               _Z        2021    A     0_TO_100      None  \n",
      "2               _Z               _Z        2021    A     0_TO_100      None  \n",
      "3               _Z               _Z        2021    A     0_TO_100      None  \n",
      "4               _Z               _Z        2021    A     0_TO_100      None  \n",
      "\n",
      "[5 rows x 24 columns]\n"
     ]
    }
   ],
   "source": [
    "def importWB(database_id, indicator_id, year_from, year_to):\n",
    "    import requests\n",
    "    import pandas as pd\n",
    "\n",
    "    url = (\n",
    "        f\"https://data360api.worldbank.org/data360/data\"\n",
    "        f\"?DATABASE_ID={database_id}&INDICATOR={indicator_id}\"\n",
    "        f\"&timePeriodFrom={year_from}&timePeriodTo={year_to}&skip=0\"\n",
    "    )\n",
    "    headers = {\"accept\": \"application/json\"}\n",
    "\n",
    "    response = requests.get(url, headers=headers)\n",
    "    data = response.json()\n",
    "\n",
    "    # The data is under the \"value\" key\n",
    "    if \"value\" in data and data[\"value\"]:\n",
    "        df = pd.DataFrame(data[\"value\"])\n",
    "        return df\n",
    "    else:\n",
    "        print(\"No data available for the requested indicator and database.\")\n",
    "        return False\n",
    "\n",
    "mydf_ICTPolicy = importWB(\"ITU_ICT\", \"ITU_ICT_G5_DIG_ECON\", \"2000\", \"2025\")\n",
    "mydf_FarmCredit = importWB(\"FAO_IC\", \"FAO_IC_23068\", \"2000\", \"2025\")\n",
    "print(mydf_ICTPolicy.head())\n",
    "\n"
   ]
  },
  {
   "cell_type": "markdown",
   "id": "d13bfb07",
   "metadata": {},
   "source": [
    "## Function to filter dataset (focus on Asian countries including India)"
   ]
  },
  {
   "cell_type": "code",
   "execution_count": 49,
   "id": "9e1fc411",
   "metadata": {},
   "outputs": [
    {
     "name": "stdout",
     "output_type": "stream",
     "text": [
      "   REF_AREA OBS_VALUE\n",
      "0       AFG  0.925926\n",
      "7       ARM   7.40741\n",
      "10      AZE   8.02469\n",
      "12      BHR   9.25926\n",
      "13      BGD   6.79012\n",
      "19      BTN   8.17901\n",
      "24      BRN    9.5679\n",
      "29      KHM   7.25309\n",
      "35      CHN   14.8148\n",
      "63      GEO   7.40741\n",
      "  REF_AREA  OBS_VALUE\n",
      "0      AFG   1.259477\n",
      "1      AFG  11.894427\n",
      "2      AFG  11.575633\n",
      "3      AFG  14.524064\n",
      "4      AFG  19.018687\n",
      "5      AFG  17.388845\n",
      "6      AFG  17.675774\n",
      "7      AFG  20.133434\n",
      "8      AFG  26.330719\n",
      "9      AFG  25.250709\n"
     ]
    }
   ],
   "source": [
    "def filterDF(df, countries, colNames):\n",
    "    filtered_df = df[df['REF_AREA'].isin(countries)][colNames]\n",
    "    return filtered_df\n",
    "\n",
    "asianCountries = ['AFG','ARM','AZE','BHR','BGD','BTN','BRN','KHM',\n",
    "                  'CHN','GEO','IND','IDN','IRN','IRQ','ISR','JPN','JOR','KAZ','PRK',\n",
    "                  'KOR','KWT','KGZ','LAO','LBN','MYS','MDV','MNG','MMR','NPL','OMN',\n",
    "                  'PAK','PSE','PHL','QAT','SAU','SGP','LKA','SYR','TJK','THA','TLS',\n",
    "                  'TUR','TKM','ARE','UZB','VNM','YEM']\n",
    "\n",
    "mydf_ICTPolicy_filtered = filterDF(mydf_ICTPolicy, asianCountries, [\"REF_AREA\", \"OBS_VALUE\"])\n",
    "mydf_FarmCredit_filtered = filterDF(mydf_FarmCredit, asianCountries, [\"REF_AREA\", \"OBS_VALUE\"])\n",
    "print(mydf_ICTPolicy_filtered.head(10))\n",
    "print(mydf_FarmCredit_filtered.head(10))\n"
   ]
  }
 ],
 "metadata": {
  "kernelspec": {
   "display_name": "Python 3",
   "language": "python",
   "name": "python3"
  },
  "language_info": {
   "codemirror_mode": {
    "name": "ipython",
    "version": 3
   },
   "file_extension": ".py",
   "mimetype": "text/x-python",
   "name": "python",
   "nbconvert_exporter": "python",
   "pygments_lexer": "ipython3",
   "version": "3.12.8"
  }
 },
 "nbformat": 4,
 "nbformat_minor": 5
}
